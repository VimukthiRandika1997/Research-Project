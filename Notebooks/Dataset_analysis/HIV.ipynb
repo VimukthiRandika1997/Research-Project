{
 "cells": [
  {
   "cell_type": "code",
   "execution_count": null,
   "metadata": {},
   "outputs": [],
   "source": [
    "import torch\n",
    "from torch_geometric.datasets import MoleculeNet\n",
    "\n",
    "import numpy as np\n",
    "import pandas as pd\n",
    "\n",
    "import py3Dmol\n",
    "from rdkit import Chem\n",
    "\n",
    "import plotly.io as pio\n",
    "import plotly.express as px\n",
    "import plotly.graph_objects as go\n",
    "from plotly.subplots import make_subplots\n",
    "pio.templates.default = \"plotly_white\"\n",
    "\n",
    "dataset = MoleculeNet(root='data/MoleculeNet', name='HIV')\n",
    "\n",
    "print()\n",
    "print(f'Dataset: {dataset}:')\n",
    "print('====================')\n",
    "print(f'Number of graphs: {len(dataset)}')\n",
    "print(f'Number of features: {dataset.num_features}')\n",
    "print(f'Number of classes: {dataset.num_classes}')\n",
    "print(f'Number of edge features: {dataset.num_edge_features}')\n",
    "\n",
    "data = dataset[0]  # Get the first graph object.\n",
    "\n",
    "print()\n",
    "print(data)\n",
    "print('=============================================================')\n",
    "\n",
    "# Gather some statistics about the first graph.\n",
    "print(f'Number of nodes: {data.num_nodes}')\n",
    "print(f'Number of edges: {data.num_edges}')\n",
    "print(f'Average node degree: {data.num_edges / data.num_nodes:.2f}')\n",
    "print(f'Has isolated nodes: {data.has_isolated_nodes()}')\n",
    "print(f'Has self-loops: {data.has_self_loops()}')\n",
    "print(f'Is undirected: {data.is_undirected()}')"
   ]
  },
  {
   "cell_type": "markdown",
   "metadata": {},
   "source": [
    "# Visualization of the molecules"
   ]
  },
  {
   "cell_type": "code",
   "execution_count": null,
   "metadata": {},
   "outputs": [],
   "source": [
    "def draw_molecule(mol):\n",
    "    m = Chem.MolToMolBlock(mol, confId=-1)\n",
    "\n",
    "    p = py3Dmol.view(width=400, height=400)\n",
    "    p.removeAllModels()\n",
    "\n",
    "    p.addModel(m, 'sdf')\n",
    "    p.setStyle({'stack': {}})\n",
    "    p.setBackgroundColor('0xeeeeee')\n",
    "    p.zoomTo()\n",
    "\n",
    "    return p.show()"
   ]
  },
  {
   "cell_type": "code",
   "execution_count": null,
   "metadata": {},
   "outputs": [],
   "source": [
    "# Get a random graph from the dataset for inspection\n",
    "i = 3666 # np.random.randint(len(dataset))\n",
    "m = Chem.MolFromSmiles(dataset[i].smiles)\n",
    "m"
   ]
  },
  {
   "cell_type": "markdown",
   "metadata": {},
   "source": [
    "# Feature Engineering"
   ]
  },
  {
   "cell_type": "code",
   "execution_count": null,
   "metadata": {},
   "outputs": [],
   "source": [
    "for i in range(len(dataset)):\n",
    "    x_i = dataset[i].x.cpu().detach().numpy()\n",
    "    x = x_i if i ==0 else np.vstack([x,dataset[i].x.cpu().detach().numpy()])\n",
    "\n",
    "    y_i = dataset[i].y.cpu().detach().numpy()\n",
    "    y = y_i if i ==0 else np.vstack([y,dataset[i].y.cpu().detach().numpy()])\n",
    "\n",
    "df_x = pd.DataFrame(x)"
   ]
  },
  {
   "cell_type": "code",
   "execution_count": null,
   "metadata": {},
   "outputs": [],
   "source": [
    "print(f'All the node features for the dataset: {df_x.shape}')\n",
    "df_x.head()"
   ]
  },
  {
   "cell_type": "markdown",
   "metadata": {},
   "source": [
    "df_x contains all the node features for the entire dataset, node feature dimension would be 9."
   ]
  },
  {
   "cell_type": "code",
   "execution_count": null,
   "metadata": {},
   "outputs": [],
   "source": [
    "y.shape"
   ]
  },
  {
   "cell_type": "markdown",
   "metadata": {},
   "source": [
    "## Node features"
   ]
  },
  {
   "cell_type": "code",
   "execution_count": null,
   "metadata": {},
   "outputs": [],
   "source": [
    "df_x.columns = [\n",
    "    'atomic_num', 'chirality', 'degree', 'formal_charge',\n",
    "    'numH', 'number_radical_e', 'hybridization',\n",
    "    'is_aromatic', 'is_in_ring'\n",
    "]\n",
    "\n",
    "for col in df_x:\n",
    "    px.histogram(\n",
    "        df_x, col, histnorm='percent',\n",
    "        height=300, width=500, title='Distribution of '+col).show()"
   ]
  },
  {
   "cell_type": "markdown",
   "metadata": {},
   "source": [
    "## Edge features"
   ]
  },
  {
   "cell_type": "code",
   "execution_count": null,
   "metadata": {},
   "outputs": [],
   "source": [
    "for i in range(len(dataset)):\n",
    "    x_i = dataset[i].edge_attr.cpu().detach().numpy()\n",
    "    x = x_i if i ==0 else np.vstack([x,dataset[i].edge_attr.cpu().detach().numpy()])\n",
    "\n",
    "df_edge = pd.DataFrame(x)\n",
    "df_edge.columns = ['bond_type', 'sterio_configuration', 'is_conjugated']"
   ]
  },
  {
   "cell_type": "code",
   "execution_count": null,
   "metadata": {},
   "outputs": [],
   "source": [
    "for col in df_edge:\n",
    "    px.histogram(\n",
    "        df_edge, col, histnorm='percent',\n",
    "        height=300, width=500, title='Distribution of '+ col).show()"
   ]
  },
  {
   "cell_type": "markdown",
   "metadata": {},
   "source": [
    "## What are targets?"
   ]
  },
  {
   "cell_type": "code",
   "execution_count": null,
   "metadata": {},
   "outputs": [],
   "source": [
    "y = y.flatten()"
   ]
  },
  {
   "cell_type": "code",
   "execution_count": null,
   "metadata": {},
   "outputs": [],
   "source": [
    "df_y = pd.DataFrame({'Target': y})"
   ]
  },
  {
   "cell_type": "code",
   "execution_count": null,
   "metadata": {},
   "outputs": [],
   "source": [
    "px.histogram(\n",
    "        df_y, 'Target', histnorm='percent',\n",
    "        height=300, width=500, title='Distribution of '+'Target').show()"
   ]
  },
  {
   "cell_type": "markdown",
   "metadata": {},
   "source": [
    "So we have an imbalanced dataset: 97% for the class 0 and 3% for the class 1."
   ]
  },
  {
   "cell_type": "code",
   "execution_count": null,
   "metadata": {},
   "outputs": [],
   "source": [
    "df_x.head()"
   ]
  },
  {
   "cell_type": "code",
   "execution_count": null,
   "metadata": {},
   "outputs": [],
   "source": [
    "df_x['chirality'].unique()"
   ]
  },
  {
   "cell_type": "code",
   "execution_count": null,
   "metadata": {},
   "outputs": [],
   "source": [
    "cols_to_normalize = [\n",
    "    'atomic_num', 'degree',\n",
    "    'formal_charge',\n",
    "    'numH',\n",
    "    'number_radical_e'\n",
    "]\n",
    "\n",
    "cols_to_encode = [\n",
    "    'chirality',\n",
    "    'hybridization'\n",
    "]\n",
    "\n",
    "METHOD = 'min-max'\n",
    "\n",
    "scalers = {}\n",
    "\n",
    "for c in cols_to_normalize + cols_to_encode:\n",
    "    if METHOD == 'normal':\n",
    "        scalers[c] = {'mean':df_x[c].mean(), 'std':df_x[c].std()}\n",
    "    if METHOD == 'min-max':\n",
    "        scalers[c] = {'min': df_x[c].min(), 'max': df_x[c].max()}\n",
    "\n",
    "scalers['bond_type'] = {'min': 1, 'max': 12}"
   ]
  },
  {
   "cell_type": "code",
   "execution_count": null,
   "metadata": {},
   "outputs": [],
   "source": [
    "scalers"
   ]
  },
  {
   "cell_type": "code",
   "execution_count": null,
   "metadata": {},
   "outputs": [],
   "source": [
    "dataset_new = []\n",
    "\n",
    "for i in range(len(dataset)):\n",
    "    data = dataset[i]\n",
    "    x_norm = data.x.detach().cpu().numpy().astype(float)\n",
    "    edge_w_norm = data.edge_attr[:,0].detach().cpu().numpy().astype(float)\n",
    "    edge_a_norm = data.edge_attr[:,0].detach().cpu().numpy().astype(int)\n",
    "\n",
    "    # normalize columns\n",
    "    for c in cols_to_normalize:\n",
    "        col_i = list(df_x.columns).index(c)\n",
    "\n",
    "        if METHOD == 'normal':\n",
    "            x_norm[:, col_i] = (x_norm[:, col_i] - scalers[c]['mean'])/scalers[c]['std']\n",
    "        if METHOD == 'min-max':\n",
    "            x_norm[:, col_i] = (x_norm[:, col_i] - scalers[c]['min'])/(scalers[c]['max'] - scalers[c]['min'])\n",
    "\n",
    "    # one-hot encoding of categorical columns\n",
    "    for i,c in enumerate(cols_to_encode):\n",
    "\n",
    "        col = x_norm[:,list(df_x.columns).index(c)].astype(int)\n",
    "        col_enc = np.zeros((col.size, scalers[c]['max']+1))\n",
    "        col_enc[np.arange(col.size),col] = 1\n",
    "\n",
    "        cols_encoded = col_enc if i == 0 else np.hstack([cols_encoded, col_enc])\n",
    "\n",
    "    cols_i_to_encode = [list(df_x.columns).index(c) for c in cols_to_encode]\n",
    "    x_norm = x_norm[:,[i for i in range(x_norm.shape[1]) if i not in cols_i_to_encode]]\n",
    "    x_norm = np.hstack([x_norm, cols_encoded])\n",
    "\n",
    "    # normalize type of bonds\n",
    "    edge_w_norm = (edge_w_norm - scalers['bond_type']['min'])/(scalers['bond_type']['max'] - scalers['bond_type']['min'])\n",
    "\n",
    "    # one-hot encoding of type of bonds\n",
    "    edge_a_norm = data.edge_attr[:,0].detach().cpu().numpy().astype(int)\n",
    "    col_enc = np.zeros((edge_a_norm.size, scalers['bond_type']['max']+1))\n",
    "    col_enc[np.arange(edge_a_norm.size),edge_a_norm] = 1\n",
    "\n",
    "    # saving results\n",
    "    data.x_norm = torch.tensor(x_norm, dtype=torch.float)\n",
    "    data.edge_w_norm = torch.tensor(edge_w_norm, dtype=torch.float)\n",
    "    data.edge_a_norm = torch.tensor(col_enc, dtype=torch.float)\n",
    "\n",
    "    dataset_new.append(data)"
   ]
  },
  {
   "cell_type": "code",
   "execution_count": null,
   "metadata": {},
   "outputs": [],
   "source": [
    "dataset_new[0]"
   ]
  }
 ],
 "metadata": {
  "kernelspec": {
   "display_name": "pytorch",
   "language": "python",
   "name": "python3"
  },
  "language_info": {
   "codemirror_mode": {
    "name": "ipython",
    "version": 3
   },
   "file_extension": ".py",
   "mimetype": "text/x-python",
   "name": "python",
   "nbconvert_exporter": "python",
   "pygments_lexer": "ipython3",
   "version": "3.11.4"
  },
  "orig_nbformat": 4
 },
 "nbformat": 4,
 "nbformat_minor": 2
}
