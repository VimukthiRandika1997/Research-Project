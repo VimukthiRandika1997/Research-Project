{
 "cells": [
  {
   "cell_type": "code",
   "execution_count": null,
   "metadata": {},
   "outputs": [],
   "source": [
    "! pip install rdkit"
   ]
  },
  {
   "cell_type": "code",
   "execution_count": null,
   "metadata": {},
   "outputs": [],
   "source": [
    "import torch\n",
    "from torch_geometric.datasets import MoleculeNet\n",
    "\n",
    "import numpy as np\n",
    "import pandas as pd\n",
    "\n",
    "import py3Dmol\n",
    "from rdkit import Chem\n",
    "\n",
    "import plotly.io as pio\n",
    "import plotly.express as px\n",
    "import plotly.graph_objects as go\n",
    "from plotly.subplots import make_subplots\n",
    "pio.templates.default = \"plotly_white\"\n",
    "\n",
    "dataset = MoleculeNet(root='data/MoleculeNet', name='Tox21')\n",
    "\n",
    "print()\n",
    "print(f'Dataset: {dataset}:')\n",
    "print('====================')\n",
    "print(f'Number of graphs: {len(dataset)}')\n",
    "print(f'Number of features: {dataset.num_features}')\n",
    "print(f'Number of classes: {dataset.num_classes}')\n",
    "print(f'Number of edge features: {dataset.num_edge_features}')\n",
    "\n",
    "data = dataset[0]  # Get the first graph object.\n",
    "\n",
    "print()\n",
    "print(data)\n",
    "print('=============================================================')\n",
    "\n",
    "# Gather some statistics about the first graph.\n",
    "print(f'Number of nodes: {data.num_nodes}')\n",
    "print(f'Number of edges: {data.num_edges}')\n",
    "print(f'Average node degree: {data.num_edges / data.num_nodes:.2f}')\n",
    "print(f'Has isolated nodes: {data.has_isolated_nodes()}')\n",
    "print(f'Has self-loops: {data.has_self_loops()}')\n",
    "print(f'Is undirected: {data.is_undirected()}')"
   ]
  },
  {
   "cell_type": "markdown",
   "metadata": {},
   "source": [
    "By looking at the target class, we can say this is multi-class problem!"
   ]
  },
  {
   "cell_type": "code",
   "execution_count": null,
   "metadata": {},
   "outputs": [],
   "source": [
    "data.y"
   ]
  },
  {
   "cell_type": "code",
   "execution_count": null,
   "metadata": {},
   "outputs": [],
   "source": [
    "def draw_molecule(mol):\n",
    "    m = Chem.MolToMolBlock(mol, confId=-1)\n",
    "\n",
    "    p = py3Dmol.view(width=400, height=400)\n",
    "    p.removeAllModels()\n",
    "\n",
    "    p.addModel(m, 'sdf')\n",
    "    p.setStyle({'stack': {}})\n",
    "    p.setBackgroundColor('0xeeeeee')\n",
    "    p.zoomTo()\n",
    "\n",
    "    return p.show()"
   ]
  },
  {
   "cell_type": "code",
   "execution_count": null,
   "metadata": {},
   "outputs": [],
   "source": [
    "# Get a random graph from the dataset for inspection\n",
    "i = 3666 # np.random.randint(len(dataset))\n",
    "m = Chem.MolFromSmiles(dataset[i].smiles)\n",
    "m"
   ]
  },
  {
   "cell_type": "markdown",
   "metadata": {},
   "source": [
    "## Node features\n",
    "\n",
    "* `Atomic number`: Number of protons in the nucleus of an atom. It’s characteristic of a chemical element and determines its place in the periodic table.\n",
    "\n",
    "* `Chirality`: A molecule is chiral if it is distinguishable from its mirror image by any combination of rotations, translations, and some conformational changes. Different types of chirality exist depending on the molecule and the arrangement of the atoms.\n",
    "\n",
    "* `Degree`: Number of directly-bonded neighbors of the atom.\n",
    "\n",
    "* `Formal charge`: Charge assigned to an atom. It reflects the electron count associated with the atom compared to the isolated neutral atom.\n",
    "\n",
    "* `Number of H`: Total number of hydrogen atoms on the atom.\n",
    "\n",
    "* `Number of radical e`: Number of unpaired electrons of the atom.\n",
    "\n",
    "* `Hybridization`: Atom’s hybridization.\n",
    "\n",
    "* `Is aromtic`: Whether it is included in a cyclic structure with pi bonds. This type of structure tends to be very stable in comparison with other geometric arrangements of the same atoms.\n",
    "\n",
    "* `Is in ring`: Whether it is included in a ring (a simple cycle of atoms and bonds in a molecule).\n"
   ]
  },
  {
   "cell_type": "code",
   "execution_count": null,
   "metadata": {},
   "outputs": [],
   "source": [
    "for i in range(len(dataset)):\n",
    "    x_i = dataset[i].x.cpu().detach().numpy()\n",
    "    x = x_i if i ==0 else np.vstack([x,dataset[i].x.cpu().detach().numpy()])\n",
    "\n",
    "    y_i = dataset[i].y.cpu().detach().numpy()\n",
    "    y = y_i if i ==0 else np.vstack([y,dataset[i].y.cpu().detach().numpy()])\n",
    "\n",
    "df_x = pd.DataFrame(x)"
   ]
  },
  {
   "cell_type": "code",
   "execution_count": null,
   "metadata": {},
   "outputs": [],
   "source": [
    "print(f'All the node features for the dataset: {df_x.shape}')\n",
    "df_x.head()"
   ]
  },
  {
   "cell_type": "code",
   "execution_count": null,
   "metadata": {},
   "outputs": [],
   "source": [
    "df_x.columns = [\n",
    "    'atomic_num', 'chirality', 'degree', 'formal_charge',\n",
    "    'numH', 'number_radical_e', 'hybridization',\n",
    "    'is_aromatic', 'is_in_ring'\n",
    "]\n",
    "\n",
    "for col in df_x:\n",
    "    px.histogram(\n",
    "        df_x, col, histnorm='percent',\n",
    "        height=300, width=500, title='Distribution of '+col).show()"
   ]
  },
  {
   "cell_type": "markdown",
   "metadata": {},
   "source": [
    "## Edge features\n",
    "\n",
    "* `Bond type`:  Whether the bond is single, double, triple, or aromatic.\n",
    "\n",
    "* `Stereo configuration`: stereo configuration of the bond.\n",
    "\n",
    "* `Is conjugated`: Whether o not bond is considered to be conjugated.\n",
    "\n",
    "**aromatic compound, any of a large class of unsaturated chemical compounds characterized by one or more planar rings of atoms joined by covalent bonds of two different kinds. The unique stability of these compounds is referred to as aromaticity.**"
   ]
  },
  {
   "cell_type": "code",
   "execution_count": null,
   "metadata": {},
   "outputs": [],
   "source": [
    "for i in range(len(dataset)):\n",
    "    x_i = dataset[i].edge_attr.cpu().detach().numpy()\n",
    "    x = x_i if i ==0 else np.vstack([x,dataset[i].edge_attr.cpu().detach().numpy()])\n",
    "\n",
    "df_edge = pd.DataFrame(x)\n",
    "df_edge.columns = ['bond_type', 'sterio_configuration', 'is_conjugated']"
   ]
  },
  {
   "cell_type": "code",
   "execution_count": null,
   "metadata": {},
   "outputs": [],
   "source": [
    "for col in df_edge:\n",
    "    px.histogram(\n",
    "        df_edge, col, histnorm='percent',\n",
    "        height=300, width=500, title='Distribution of '+ col).show()"
   ]
  },
  {
   "cell_type": "markdown",
   "metadata": {},
   "source": [
    "Only `bond_type` and `stero_configuration` features are imbalanced!"
   ]
  },
  {
   "cell_type": "markdown",
   "metadata": {},
   "source": [
    "## What are targets?\n",
    "\n",
    "The dataset contains the outcomes of 12 different toxicological experiments in the form of binary labels (active/inactive)."
   ]
  },
  {
   "cell_type": "code",
   "execution_count": null,
   "metadata": {},
   "outputs": [],
   "source": [
    "df_y = pd.DataFrame(y).melt()\n",
    "\n",
    "df_y1 = df_y.groupby(['variable'],as_index=False).agg({'value':['sum', 'count']})\n",
    "df_y1.columns = ['experiment','sum', 'count', ]\n",
    "df_y1['%_of_toxic_m'] = df_y1['sum']/df_y1['count']\n",
    "df_y1['missing_values'] = (1 - df_y1['count'] / len(dataset))\n",
    "df_y1['perc_of_samples'] = df_y1['count'] / len(dataset)\n",
    "\n",
    "for c in ['%_of_toxic_m', 'missing_values', 'perc_of_samples', ]:\n",
    "    df_y1[c] = df_y1[c].apply(lambda x:round(x*100,2))\n",
    "\n",
    "print(df_y1.shape)\n",
    "df_y1"
   ]
  },
  {
   "cell_type": "code",
   "execution_count": null,
   "metadata": {},
   "outputs": [],
   "source": [
    "fig = px.line(df_y1, 'experiment', '%_of_toxic_m', \n",
    "              title='Number of Positive Toxic Examples In Experiments', \n",
    "              text='%_of_toxic_m')\n",
    "fig.show()"
   ]
  },
  {
   "cell_type": "markdown",
   "metadata": {},
   "source": [
    "The data poses two main challenges:\n",
    "* **Small dataset**: The number of labeled molecules varies depending on the experiment\n",
    "* **Unbalanced target**: The percentage of active molecules is very low, up to 3% as above table"
   ]
  },
  {
   "cell_type": "markdown",
   "metadata": {},
   "source": [
    "# Feature engineering"
   ]
  },
  {
   "cell_type": "code",
   "execution_count": null,
   "metadata": {},
   "outputs": [],
   "source": [
    "cols_to_normalize = [\n",
    "    'atomic_num', 'degree',\n",
    "    'formal_charge',\n",
    "    'numH',\n",
    "    'number_radical_e'\n",
    "]\n",
    "\n",
    "cols_to_encode = [\n",
    "    'chirality',\n",
    "    'hybridization'\n",
    "]\n",
    "\n",
    "METHOD = 'min-max'\n",
    "\n",
    "scalers = {}\n",
    "\n",
    "for c in cols_to_normalize + cols_to_encode:\n",
    "    if METHOD == 'normal':\n",
    "        scalers[c] = {'mean':df_x[c].mean(), 'std':df_x[c].std()}\n",
    "    if METHOD == 'min-max':\n",
    "        scalers[c] = {'min': df_x[c].min(), 'max': df_x[c].max()}\n",
    "\n",
    "# 1 => single bond\n",
    "# 2 => double bond\n",
    "# 3 => triple bond\n",
    "# 3 > 0 => aromatic (ring structure)\n",
    "scalers['bond_type'] = {'min': 1, 'max': 12}"
   ]
  },
  {
   "cell_type": "code",
   "execution_count": null,
   "metadata": {},
   "outputs": [],
   "source": [
    "scalers"
   ]
  },
  {
   "cell_type": "code",
   "execution_count": null,
   "metadata": {},
   "outputs": [],
   "source": [
    "dataset_new = []\n",
    "\n",
    "for i in range(len(dataset)):\n",
    "    data = dataset[i]\n",
    "    x_norm = data.x.detach().cpu().numpy().astype(float)\n",
    "    edge_w_norm = data.edge_attr[:,0].detach().cpu().numpy().astype(float)\n",
    "    edge_a_norm = data.edge_attr[:,0].detach().cpu().numpy().astype(int)\n",
    "\n",
    "    # normalize columns\n",
    "    for c in cols_to_normalize:\n",
    "        col_i = list(df_x.columns).index(c)\n",
    "\n",
    "        if METHOD == 'normal':\n",
    "            x_norm[:, col_i] = (x_norm[:, col_i] - scalers[c]['mean'])/scalers[c]['std']\n",
    "        if METHOD == 'min-max':\n",
    "            x_norm[:, col_i] = (x_norm[:, col_i] - scalers[c]['min'])/(scalers[c]['max'] - scalers[c]['min'])\n",
    "\n",
    "    # one-hot encoding of categorical columns\n",
    "    for i,c in enumerate(cols_to_encode):\n",
    "\n",
    "        col = x_norm[:,list(df_x.columns).index(c)].astype(int)\n",
    "        col_enc = np.zeros((col.size, scalers[c]['max']+1))\n",
    "        col_enc[np.arange(col.size), col] = 1\n",
    "\n",
    "        cols_encoded = col_enc if i == 0 else np.hstack([cols_encoded, col_enc])\n",
    "\n",
    "    cols_i_to_encode = [list(df_x.columns).index(c) for c in cols_to_encode]\n",
    "    x_norm = x_norm[:,[i for i in range(x_norm.shape[1]) if i not in cols_i_to_encode]]\n",
    "    x_norm = np.hstack([x_norm, cols_encoded])\n",
    "\n",
    "    # normalize type of bonds\n",
    "    edge_w_norm = (edge_w_norm - scalers['bond_type']['min'])/(scalers['bond_type']['max'] - scalers['bond_type']['min'])\n",
    "\n",
    "    # one-hot encoding of type of bonds\n",
    "    edge_a_norm = data.edge_attr[:,0].detach().cpu().numpy().astype(int)\n",
    "    col_enc = np.zeros((edge_a_norm.size, scalers['bond_type']['max']+1))\n",
    "    col_enc[np.arange(edge_a_norm.size), edge_a_norm] = 1\n",
    "\n",
    "    # saving results\n",
    "    data.x_norm = torch.tensor(x_norm, dtype=torch.float)\n",
    "    data.edge_w_norm = torch.tensor(edge_w_norm, dtype=torch.float)\n",
    "    data.edge_a_norm = torch.tensor(col_enc, dtype=torch.float)\n",
    "\n",
    "    dataset_new.append(data)"
   ]
  },
  {
   "cell_type": "code",
   "execution_count": null,
   "metadata": {},
   "outputs": [],
   "source": [
    "dataset_new[0]"
   ]
  },
  {
   "cell_type": "code",
   "execution_count": null,
   "metadata": {},
   "outputs": [],
   "source": [
    "TARGET = 2 # Taking class 2\n",
    "\n",
    "dataset_target, Y = [], []\n",
    "\n",
    "for i in range(len(dataset_new)):\n",
    "    if not(dataset_new[i]['y'][0,TARGET].isnan()):\n",
    "        Y.append(dataset_new[i]['y'][0,TARGET])\n",
    "        dataset_target.append(dataset_new[i])\n",
    "\n",
    "Y = pd.DataFrame([y.numpy() for y in Y]).reset_index().rename(columns={0:'target'})\n",
    "\n",
    "print(f'Average of the target: {Y.target.mean() * 100}')"
   ]
  },
  {
   "cell_type": "code",
   "execution_count": null,
   "metadata": {},
   "outputs": [],
   "source": [
    "Y"
   ]
  }
 ],
 "metadata": {
  "kernelspec": {
   "display_name": "pytorch",
   "language": "python",
   "name": "python3"
  },
  "language_info": {
   "codemirror_mode": {
    "name": "ipython",
    "version": 3
   },
   "file_extension": ".py",
   "mimetype": "text/x-python",
   "name": "python",
   "nbconvert_exporter": "python",
   "pygments_lexer": "ipython3",
   "version": "3.11.4"
  },
  "orig_nbformat": 4
 },
 "nbformat": 4,
 "nbformat_minor": 2
}
