{
 "cells": [
  {
   "cell_type": "code",
   "execution_count": null,
   "metadata": {},
   "outputs": [],
   "source": [
    "import torch\n",
    "from torch_geometric.datasets import MoleculeNet\n",
    "\n",
    "import numpy as np\n",
    "import pandas as pd\n",
    "\n",
    "import py3Dmol\n",
    "from rdkit import Chem\n",
    "\n",
    "import plotly.io as pio\n",
    "import plotly.express as px\n",
    "import plotly.graph_objects as go\n",
    "from plotly.subplots import make_subplots\n",
    "pio.templates.default = \"plotly_white\"\n",
    "\n",
    "dataset = MoleculeNet(root='data/MoleculeNet', name='HIV')\n",
    "\n",
    "print()\n",
    "print(f'Dataset: {dataset}:')\n",
    "print('====================')\n",
    "print(f'Number of graphs: {len(dataset)}')\n",
    "print(f'Number of features: {dataset.num_features}')\n",
    "print(f'Number of classes: {dataset.num_classes}')\n",
    "print(f'Number of edge features: {dataset.num_edge_features}')\n",
    "\n",
    "data = dataset[0]  # Get the first graph object.\n",
    "\n",
    "print()\n",
    "print(data)\n",
    "print('=============================================================')\n",
    "\n",
    "# Gather some statistics about the first graph.\n",
    "print(f'Number of nodes: {data.num_nodes}')\n",
    "print(f'Number of edges: {data.num_edges}')\n",
    "print(f'Average node degree: {data.num_edges / data.num_nodes:.2f}')\n",
    "print(f'Has isolated nodes: {data.has_isolated_nodes()}')\n",
    "print(f'Has self-loops: {data.has_self_loops()}')\n",
    "print(f'Is undirected: {data.is_undirected()}')"
   ]
  },
  {
   "cell_type": "code",
   "execution_count": null,
   "metadata": {},
   "outputs": [],
   "source": [
    "import sys\n",
    "sys.path.append('../../')\n",
    "sys.path.append('../../Libs')\n",
    "from models import *\n",
    "from dataloaders import create_dataloaders\n",
    "from train import train, run_experiment"
   ]
  },
  {
   "cell_type": "code",
   "execution_count": null,
   "metadata": {},
   "outputs": [],
   "source": [
    "args = {\n",
    "    'dataset_name': 'MUTAG',\n",
    "    'batch_size': 64\n",
    "}\n",
    "\n",
    "train_loader, val_loader, test_loader, metadata = create_dataloaders(args)"
   ]
  },
  {
   "cell_type": "code",
   "execution_count": null,
   "metadata": {},
   "outputs": [],
   "source": [
    "print(len(train_loader))\n",
    "print(len(val_loader))\n",
    "print(len(test_loader))\n",
    "\n",
    "for data in train_loader:\n",
    "    print(data)\n",
    "    break\n",
    "\n",
    "print(metadata)\n",
    "\n",
    "model = EINModel(input_dim=7, dim_h=64, final_dim=2, edge_dim=4, num_heads=16, eps=1)\n",
    "\n",
    "print(model)\n",
    "\n",
    "for data in train_loader:\n",
    "    res = model(data.x, data.edge_index, data.edge_attr, data.batch)\n",
    "    print(res.shape)\n",
    "    break"
   ]
  },
  {
   "cell_type": "code",
   "execution_count": null,
   "metadata": {},
   "outputs": [],
   "source": [
    "for data in train_loader:\n",
    "    print(data)\n",
    "    print(data.y.shape)"
   ]
  },
  {
   "cell_type": "code",
   "execution_count": null,
   "metadata": {},
   "outputs": [],
   "source": [
    "data.y = data.y.to(torch.int64)\n",
    "data.y.dtype"
   ]
  },
  {
   "cell_type": "code",
   "execution_count": null,
   "metadata": {},
   "outputs": [],
   "source": [
    "args = {\n",
    "    'dataset_name': 'BBBP',\n",
    "    'batch_size': 32\n",
    "}\n",
    "\n",
    "train_loader, val_loader, test_loader, metadata = create_dataloaders(args)"
   ]
  },
  {
   "cell_type": "code",
   "execution_count": null,
   "metadata": {},
   "outputs": [],
   "source": [
    "data.y.flatten().to(torch.int64).shape"
   ]
  },
  {
   "cell_type": "code",
   "execution_count": null,
   "metadata": {},
   "outputs": [],
   "source": [
    "for data in train_loader:\n",
    "    data.x = data.x.to(torch.float)\n",
    "    data.edge_attr = data.edge_attr.to(torch.float)\n",
    "    print(data.x.dtype)"
   ]
  },
  {
   "cell_type": "code",
   "execution_count": null,
   "metadata": {},
   "outputs": [],
   "source": [
    "for data in train_loader:\n",
    "    print(data.x.dtype)"
   ]
  },
  {
   "cell_type": "code",
   "execution_count": null,
   "metadata": {},
   "outputs": [],
   "source": [
    "print(len(train_loader))\n",
    "print(len(val_loader))\n",
    "print(len(test_loader))\n",
    "\n",
    "criterion = torch.nn.CrossEntropyLoss()\n",
    "\n",
    "for data in train_loader:\n",
    "    print(data)\n",
    "    break\n",
    "\n",
    "print(metadata)\n",
    "\n",
    "model = EINModel(input_dim=9, dim_h=64, final_dim=2, edge_dim=3, num_heads=16, eps=1)\n",
    "\n",
    "print(model)\n",
    "\n",
    "i = 0\n",
    "for data in train_loader:\n",
    "    print(i)\n",
    "    i += 1\n",
    "    print(data)\n",
    "    y = data.y.flatten().to(torch.int64)\n",
    "    out = model(data.x.to(torch.float), data.edge_index, data.edge_attr.to(torch.float), data.batch)\n",
    "    print(out.shape, y.shape)\n",
    "    print(criterion(out, y))\n",
    "\n",
    "print('batches: ', i)"
   ]
  },
  {
   "cell_type": "code",
   "execution_count": null,
   "metadata": {},
   "outputs": [],
   "source": [
    "out = model(data.x.to(torch.float), data.edge_index, data.edge_attr.to(torch.float), data.batch)\n",
    "out.shape"
   ]
  },
  {
   "cell_type": "code",
   "execution_count": null,
   "metadata": {},
   "outputs": [],
   "source": [
    "data.y.shape"
   ]
  },
  {
   "cell_type": "code",
   "execution_count": null,
   "metadata": {},
   "outputs": [],
   "source": [
    "model = GATModel(input_dim=9, dim_h=64, final_dim=2, edge_dim=3, num_heads=16, eps=1)\n",
    "\n",
    "i = 0\n",
    "for data in train_loader:\n",
    "    print(i)\n",
    "    i += 1\n",
    "    print(data)\n",
    "    y = data.y.flatten().to(torch.int64)\n",
    "    out = model(data.x.to(torch.float), data.edge_index, data.edge_attr.to(torch.float), data.batch)\n",
    "    print(out.shape, y.shape)\n",
    "    print(criterion(out, y))\n",
    "\n",
    "print('batches: ', i)"
   ]
  },
  {
   "cell_type": "code",
   "execution_count": null,
   "metadata": {},
   "outputs": [],
   "source": [
    "model = GINModel(input_dim=9, dim_h=64, final_dim=2, eps=1)\n",
    "\n",
    "i = 0\n",
    "for data in train_loader:\n",
    "    print(i)\n",
    "    i += 1\n",
    "    print(data)\n",
    "    y = data.y.flatten().to(torch.int64)\n",
    "    out = model(data.x.to(torch.float), data.edge_index, data.batch)\n",
    "    print(out.shape, y.shape)\n",
    "    print(criterion(out, y))\n",
    "\n",
    "print('batches: ', i)"
   ]
  }
 ],
 "metadata": {
  "kernelspec": {
   "display_name": "pytorch",
   "language": "python",
   "name": "python3"
  },
  "language_info": {
   "codemirror_mode": {
    "name": "ipython",
    "version": 3
   },
   "file_extension": ".py",
   "mimetype": "text/x-python",
   "name": "python",
   "nbconvert_exporter": "python",
   "pygments_lexer": "ipython3",
   "version": "3.11.4"
  },
  "orig_nbformat": 4
 },
 "nbformat": 4,
 "nbformat_minor": 2
}
