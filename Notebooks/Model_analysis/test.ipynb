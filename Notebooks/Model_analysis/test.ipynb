{
 "cells": [
  {
   "cell_type": "code",
   "execution_count": null,
   "metadata": {},
   "outputs": [],
   "source": [
    "import torch\n",
    "from torch.functional import F\n",
    "from torch.nn import Linear, Parameter, Sequential, BatchNorm1d, ReLU, Dropout\n",
    "from torch_geometric.nn import MessagePassing, GCNConv, GATv2Conv, GINConv, GINEConv, global_mean_pool\n",
    "from torch_geometric.utils import add_self_loops, remove_self_loops, degree, softmax"
   ]
  },
  {
   "cell_type": "code",
   "execution_count": null,
   "metadata": {},
   "outputs": [],
   "source": [
    "import torch\n",
    "from torch_geometric.datasets import MoleculeNet\n",
    "\n",
    "dataset = MoleculeNet(root='../../Data/MoleculeNet', name='BACE')\n",
    "\n",
    "import pandas as pd\n",
    "\n",
    "smiles_list = pd.read_csv('../../Data/MoleculeNet/bace/raw/bace.csv')['mol'].tolist()\n",
    "\n",
    "import sys\n",
    "sys.path.append('../../')\n",
    "sys.path.append('../../Libs')\n",
    "from Libs.splitting import scaffold_split\n",
    "\n",
    "train_dataset, valid_dataset, test_dataset = scaffold_split(dataset, smiles_list, task_idx=None, null_value=0, frac_train=0.8,frac_valid=0.1, frac_test=0.1)\n",
    "\n",
    "from torch_geometric.loader import DataLoader\n",
    "\n",
    "train_loader = DataLoader(train_dataset, batch_size=32, shuffle=False)"
   ]
  },
  {
   "cell_type": "code",
   "execution_count": null,
   "metadata": {},
   "outputs": [],
   "source": [
    "class GATModel(torch.nn.Module):\n",
    "    def __init__(self, input_dim, dim_h, final_dim, num_heads, edge_dim, **kwargs):\n",
    "        super().__init__()\n",
    "        torch.manual_seed(42)\n",
    "\n",
    "        # Layers\n",
    "        self.conv1 = GATv2Conv(input_dim, dim_h,\n",
    "                               edge_dim=edge_dim, heads=num_heads, **kwargs)\n",
    "        self.conv2 = GATv2Conv(dim_h * num_heads, dim_h,\n",
    "                               edge_dim=edge_dim, heads=num_heads, **kwargs)\n",
    "        self.conv3 = GATv2Conv(dim_h * num_heads, dim_h,\n",
    "                               edge_dim=edge_dim, heads=num_heads, **kwargs)\n",
    "        self.conv4 = GATv2Conv(dim_h * num_heads, dim_h,\n",
    "                               edge_dim=edge_dim, heads=num_heads, **kwargs)\n",
    "        self.conv5 = GATv2Conv(\n",
    "            dim_h * num_heads, dim_h, edge_dim=edge_dim, heads=num_heads, concat=False, **kwargs)\n",
    "\n",
    "        # Linear layer\n",
    "        self.lin1 = Linear(dim_h * 5, dim_h * 5)\n",
    "\n",
    "        # Classification head\n",
    "        self.lin2 = Linear(dim_h * 5, final_dim)\n",
    "\n",
    "    def forward(self, x, edge_index, edge_attr, batch):\n",
    "        # Embedding\n",
    "        h1 = self.conv1(x, edge_index, edge_attr)\n",
    "        h1 = h1.relu()\n",
    "        h2 = self.conv2(h1, edge_index, edge_attr)\n",
    "        h2 = h2.relu()\n",
    "        h3 = self.conv3(h2, edge_index, edge_attr)\n",
    "        h3 = h3.relu()\n",
    "        h4 = self.conv4(h3, edge_index, edge_attr)\n",
    "        h4 = h4.relu()\n",
    "        h5 = self.conv5(h4, edge_index, edge_attr)\n",
    "        h5 = h5.relu()\n",
    "\n",
    "        C = h5.shape[-1]  # dim_h\n",
    "        H = h4.shape[-1] // C  # num_heads\n",
    "\n",
    "        print(h1.shape, h2.shape, h3.shape, h4.shape, h5.shape)\n",
    "        print(h1.view(-1, H, C).mean(dim=1).shape)\n",
    "        # Graph-level readout\n",
    "        h1 = global_mean_pool(h1.view(-1, H, C).mean(dim=1), batch)\n",
    "        h2 = global_mean_pool(h2.view(-1, H, C).mean(dim=1), batch)\n",
    "        h3 = global_mean_pool(h3.view(-1, H, C).mean(dim=1), batch)\n",
    "        h4 = global_mean_pool(h4.view(-1, H, C).mean(dim=1), batch)\n",
    "        h5 = global_mean_pool(h5, batch)\n",
    "        print(h1.shape, h2.shape, h3.shape, h4.shape, h5.shape)\n",
    "\n",
    "        h = torch.cat((h1, h2, h3, h4, h5), dim=1)\n",
    "\n",
    "        # Classifier\n",
    "        h = self.lin1(h)\n",
    "        h = h.relu()\n",
    "        h = F.dropout(h, p=0.5, training=self.training)\n",
    "        h = self.lin2(h)\n",
    "\n",
    "        # return F.log_softmax(h, dim=1)\n",
    "        return h.flatten()"
   ]
  },
  {
   "cell_type": "code",
   "execution_count": null,
   "metadata": {},
   "outputs": [],
   "source": [
    "for batch in train_loader:\n",
    "    print(batch)\n",
    "    break"
   ]
  },
  {
   "cell_type": "code",
   "execution_count": null,
   "metadata": {},
   "outputs": [],
   "source": [
    "model = GATModel(9, 64, 1, 16, 3)\n",
    "model"
   ]
  },
  {
   "cell_type": "code",
   "execution_count": null,
   "metadata": {},
   "outputs": [],
   "source": [
    "for batch in train_loader:\n",
    "    print(model(batch.x.to(torch.float), batch.edge_index, batch.edge_attr.to(torch.float), batch.batch).shape)\n",
    "    break"
   ]
  },
  {
   "cell_type": "code",
   "execution_count": null,
   "metadata": {},
   "outputs": [],
   "source": []
  }
 ],
 "metadata": {
  "kernelspec": {
   "display_name": "pytorch",
   "language": "python",
   "name": "python3"
  },
  "language_info": {
   "codemirror_mode": {
    "name": "ipython",
    "version": 3
   },
   "file_extension": ".py",
   "mimetype": "text/x-python",
   "name": "python",
   "nbconvert_exporter": "python",
   "pygments_lexer": "ipython3",
   "version": "3.11.4"
  }
 },
 "nbformat": 4,
 "nbformat_minor": 2
}
