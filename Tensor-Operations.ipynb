{
 "cells": [
  {
   "cell_type": "markdown",
   "id": "865ec3be-f391-4318-9d61-51d5b642610e",
   "metadata": {
    "canvas": {
     "comments": [],
     "componentType": "CodeCell",
     "copiedOriginId": null,
     "diskcache": false,
     "headerColor": "transparent",
     "id": "168d58d9-e59d-4e46-b9bf-1338d6060088",
     "isComponent": false,
     "name": "",
     "parents": []
    }
   },
   "source": [
    "# MessagePassing in PyTorch Geometric\n",
    "\n",
    "[Reference](https://zqfang.github.io/2021-08-07-graph-pyg/)"
   ]
  },
  {
   "cell_type": "code",
   "execution_count": 27,
   "id": "0c809e61-4b61-4746-ac90-3fdc88837f47",
   "metadata": {
    "canvas": {
     "comments": [],
     "componentType": "CodeCell",
     "copiedOriginId": null,
     "diskcache": false,
     "headerColor": "transparent",
     "id": "8df0e874-9bc6-49ee-8e86-33b6dc5bf932",
     "isComponent": false,
     "name": "",
     "parents": []
    },
    "tags": []
   },
   "outputs": [
    {
     "name": "stdout",
     "output_type": "stream",
     "text": [
      "input: \n",
      "tensor([[1, 1, 0, 1, 2],\n",
      "        [1, 1, 0, 1, 2],\n",
      "        [1, 1, 0, 1, 2],\n",
      "        [1, 2, 1, 2, 3],\n",
      "        [1, 2, 1, 2, 3],\n",
      "        [2, 3, 3, 0, 1],\n",
      "        [3, 3, 1, 3, 2],\n",
      "        [3, 3, 1, 3, 2]])\n",
      "agg out:\n",
      "tensor([[6, 8, 5, 5, 6],\n",
      "        [1, 1, 0, 1, 2],\n",
      "        [4, 4, 1, 4, 4],\n",
      "        [2, 3, 1, 3, 5]])\n"
     ]
    }
   ],
   "source": [
    "import torch\n",
    "from torch_scatter import scatter_add\n",
    "\n",
    "num_nodes = 4\n",
    "embed_size = 5\n",
    "\n",
    "src = torch.randint(0, num_nodes, (num_nodes, embed_size)) # (num_nodes, embed_size)\n",
    "src_index = torch.tensor([0,0,0,1,1,2,3,3]) # edges\n",
    "tmp = torch.index_select(src, 0, src_index) # shape [num_edges, embed_size ]\n",
    "print(\"input: \")\n",
    "print(tmp)\n",
    "\n",
    "target_index = torch.tensor([1,2,3,3,0,0,0,2])\n",
    "aggr = scatter_add(tmp, target_index, 0) # shape [num_nodes, embed_size] \n",
    "print(\"agg out:\")\n",
    "print(aggr)\n",
    "\n",
    "# behind the sence, torch.scatter_add is used\n",
    "# repeat the edge_index\n",
    "index2 = target_index.expand((embed_size, target_index.size(0))).T\n",
    "# same result by using torch.scatter_add\n",
    "aggr2 = torch.zeros(num_nodes, embed_size, dtype=tmp.dtype).scatter_add(0, index2, tmp)\n"
   ]
  },
  {
   "cell_type": "code",
   "execution_count": 28,
   "id": "0ac91a49-f72b-4633-939d-09c33fd7028c",
   "metadata": {
    "canvas": {
     "comments": [],
     "componentType": "CodeCell",
     "copiedOriginId": null,
     "diskcache": false,
     "headerColor": "transparent",
     "id": "15e13d16-0973-4d47-ba82-00ae9b383294",
     "isComponent": false,
     "name": "",
     "parents": []
    },
    "tags": []
   },
   "outputs": [
    {
     "name": "stdout",
     "output_type": "stream",
     "text": [
      "src\n",
      " tensor([[1, 1, 0, 1, 2],\n",
      "        [1, 2, 1, 2, 3],\n",
      "        [2, 3, 3, 0, 1],\n",
      "        [3, 3, 1, 3, 2]])\n",
      "src_index\n",
      " tensor([0, 0, 0, 1, 1, 2, 3, 3])\n",
      "res\n",
      " tensor([[1, 1, 0, 1, 2],\n",
      "        [1, 1, 0, 1, 2],\n",
      "        [1, 1, 0, 1, 2],\n",
      "        [1, 2, 1, 2, 3],\n",
      "        [1, 2, 1, 2, 3],\n",
      "        [2, 3, 3, 0, 1],\n",
      "        [3, 3, 1, 3, 2],\n",
      "        [3, 3, 1, 3, 2]])\n"
     ]
    }
   ],
   "source": [
    "print('src\\n',src) # source nodes: (num_nodes, embed_size)\n",
    "print('src_index\\n',src_index) # Indexes of the source nodes\n",
    "res = torch.index_select(src, 0, src_index) # Selected source nodes as in edge format: (num_edges, embed_size)\n",
    "print('res\\n',res)"
   ]
  },
  {
   "cell_type": "markdown",
   "id": "d1ab4183-7d28-4078-b0b6-1f5c2ab5cd5d",
   "metadata": {
    "canvas": {
     "comments": [],
     "componentType": "CodeCell",
     "copiedOriginId": null,
     "diskcache": false,
     "headerColor": "transparent",
     "id": "be2b4bb9-7c52-46d3-b8dc-401b4d47d586",
     "isComponent": false,
     "name": "",
     "parents": []
    }
   },
   "source": [
    "Select the vectors indexed from the src matrix according to the index vector: src_index"
   ]
  },
  {
   "cell_type": "code",
   "execution_count": 29,
   "id": "ddf14d50-854c-45c4-9211-d7568d798f54",
   "metadata": {
    "canvas": {
     "comments": [],
     "componentType": "CodeCell",
     "copiedOriginId": null,
     "diskcache": false,
     "headerColor": "transparent",
     "id": "2143e7a8-a0d2-421e-844e-635599faf85f",
     "isComponent": false,
     "name": "",
     "parents": []
    }
   },
   "outputs": [
    {
     "name": "stdout",
     "output_type": "stream",
     "text": [
      "target node indexes tensor([1, 2, 3, 3, 0, 0, 0, 2])\n",
      "aggreated node features\n",
      " tensor([[6, 8, 5, 5, 6],\n",
      "        [1, 1, 0, 1, 2],\n",
      "        [4, 4, 1, 4, 4],\n",
      "        [2, 3, 1, 3, 5]])\n"
     ]
    }
   ],
   "source": [
    "print('target node indexes',target_index)\n",
    "aggreated_node_feats = scatter_add(res, target_index, 0) # shape [num_nodes, embed_size] \n",
    "print('aggreated node features\\n', aggreated_node_feats)"
   ]
  },
  {
   "cell_type": "code",
   "execution_count": 36,
   "id": "a467961a-b5b1-4cc0-b5ff-bf05e742f45d",
   "metadata": {
    "canvas": {
     "comments": [],
     "componentType": "CodeCell",
     "copiedOriginId": null,
     "diskcache": false,
     "headerColor": "transparent",
     "id": "3b2ebbf5-cab9-4a2d-930e-da651fb55afe",
     "isComponent": false,
     "name": "",
     "parents": []
    }
   },
   "outputs": [
    {
     "data": {
      "text/plain": [
       "tensor([[1, 1, 1, 1, 1],\n",
       "        [2, 2, 2, 2, 2],\n",
       "        [3, 3, 3, 3, 3],\n",
       "        [3, 3, 3, 3, 3],\n",
       "        [0, 0, 0, 0, 0],\n",
       "        [0, 0, 0, 0, 0],\n",
       "        [0, 0, 0, 0, 0],\n",
       "        [2, 2, 2, 2, 2]])"
      ]
     },
     "execution_count": 36,
     "metadata": {},
     "output_type": "execute_result"
    }
   ],
   "source": [
    "target_index.expand((embed_size, target_index.size(0))).T"
   ]
  },
  {
   "cell_type": "code",
   "execution_count": 38,
   "id": "f01361cd-5a3e-4107-a67e-8f4ccbd82977",
   "metadata": {
    "canvas": {
     "comments": [],
     "componentType": "CodeCell",
     "copiedOriginId": null,
     "diskcache": false,
     "headerColor": "transparent",
     "id": "fb653d61-3436-4d7b-bc15-e93758fd32bd",
     "isComponent": false,
     "name": "",
     "parents": []
    },
    "tags": []
   },
   "outputs": [
    {
     "data": {
      "text/plain": [
       "tensor([[6, 8, 5, 5, 6],\n",
       "        [1, 1, 0, 1, 2],\n",
       "        [4, 4, 1, 4, 4],\n",
       "        [2, 3, 1, 3, 5]])"
      ]
     },
     "execution_count": 38,
     "metadata": {},
     "output_type": "execute_result"
    }
   ],
   "source": [
    "torch.zeros(num_nodes, embed_size, dtype=tmp.dtype).scatter_add(0, index2, tmp)"
   ]
  },
  {
   "cell_type": "code",
   "execution_count": 37,
   "id": "654f457a-3992-4f23-8f59-0621f463c3d8",
   "metadata": {
    "canvas": {
     "comments": [],
     "componentType": "CodeCell",
     "copiedOriginId": null,
     "diskcache": false,
     "headerColor": "transparent",
     "id": "2aa73b6b-7c03-4f16-9cbf-6d4874ad4a0a",
     "isComponent": false,
     "name": "",
     "parents": []
    }
   },
   "outputs": [
    {
     "data": {
      "text/plain": [
       "tensor([[True, True, True, True, True],\n",
       "        [True, True, True, True, True],\n",
       "        [True, True, True, True, True],\n",
       "        [True, True, True, True, True]])"
      ]
     },
     "execution_count": 37,
     "metadata": {},
     "output_type": "execute_result"
    }
   ],
   "source": [
    "aggr == aggr2"
   ]
  }
 ],
 "metadata": {
  "canvas": {
   "colorPalette": [
    "inherit",
    "inherit",
    "inherit",
    "inherit",
    "inherit",
    "inherit",
    "inherit",
    "inherit",
    "inherit",
    "inherit"
   ],
   "parameters": []
  },
  "kernelspec": {
   "display_name": "Python (pytorch)",
   "language": "python",
   "name": "pytorch"
  },
  "language_info": {
   "codemirror_mode": {
    "name": "ipython",
    "version": 3
   },
   "file_extension": ".py",
   "mimetype": "text/x-python",
   "name": "python",
   "nbconvert_exporter": "python",
   "pygments_lexer": "ipython3",
   "version": "3.9.16"
  }
 },
 "nbformat": 4,
 "nbformat_minor": 5
}
