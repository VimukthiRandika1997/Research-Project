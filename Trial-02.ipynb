{
 "cells": [
  {
   "cell_type": "markdown",
   "id": "97967ca1-767e-40bf-a247-ef69f9966e3a",
   "metadata": {
    "canvas": {
     "comments": [],
     "componentType": "CodeCell",
     "copiedOriginId": null,
     "diskcache": false,
     "headerColor": "transparent",
     "id": "d2755251-1f3a-455b-990e-fab35f68dc57",
     "isComponent": false,
     "name": "",
     "parents": []
    }
   },
   "source": [
    "# Implementing GAT using Numpy"
   ]
  },
  {
   "cell_type": "code",
   "execution_count": 34,
   "id": "979cbb56-cddc-4198-94a3-f6294acca049",
   "metadata": {
    "canvas": {
     "comments": [],
     "componentType": "CodeCell",
     "copiedOriginId": null,
     "diskcache": false,
     "headerColor": "transparent",
     "id": "5cd40713-b4c6-4cd4-9fcc-915da6ce91ba",
     "isComponent": false,
     "name": "",
     "parents": []
    },
    "tags": []
   },
   "outputs": [
    {
     "name": "stdout",
     "output_type": "stream",
     "text": [
      "Adjacency Matrix: \n",
      "[[1 1 1 1]\n",
      " [1 1 0 0]\n",
      " [1 0 1 1]\n",
      " [1 0 1 1]]\n",
      "\n",
      "Node features: \n",
      "[[ 0.54264129 -0.9584961   0.26729647  0.49760777]\n",
      " [-0.00298598 -0.55040671 -0.60387427  0.52106142]\n",
      " [-0.66177833 -0.82332037  0.37071964  0.90678669]\n",
      " [-0.99210347  0.02438453  0.62524192  0.22505213]]\n",
      "\n",
      "Edge features: \n",
      "[[ 0.44351063 -0.41624786]\n",
      " [ 0.83554825  0.42915157]\n",
      " [ 0.08508874 -0.7156599 ]\n",
      " [-0.25331848  0.34826723]\n",
      " [-0.11633365 -0.13197201]\n",
      " [ 0.23553396  0.02627649]\n",
      " [ 0.30079436  0.20207791]\n",
      " [ 0.61044639  0.0432943 ]\n",
      " [ 0.81729776 -0.36152782]\n",
      " [-0.8190813  -0.39859989]\n",
      " [-0.77203128  0.65736265]\n",
      " [-0.90620736  0.2525743 ]]\n",
      "\n",
      "Regular weight matrix: \n",
      "[[ 0.09517231  0.63857399 -0.60210492  0.7137006 ]\n",
      " [-0.29669472  0.50929538 -0.40807659  0.76787296]]\n",
      "\n",
      "Attention matrix: \n",
      "[[-0.34897672 -0.6699682  -0.21494151 -0.81307925]]\n",
      "\n",
      "Edges in COO format: \n",
      "(array([0, 0, 0, 0, 1, 1, 2, 2, 2, 3, 3, 3]), array([0, 1, 2, 3, 0, 1, 0, 2, 3, 0, 2, 3]))\n",
      "\n",
      "Attention score: \n",
      "[[ 0.76434534 -0.00115851  0.15336751  0.26065896  0.00468825 -0.76081561\n",
      "   0.22628344 -0.38469439 -0.27740295  0.33701922 -0.27395861 -0.16666717]]\n",
      "\n",
      "After applying LeakyReLU: \n",
      "[ 7.64345345e-01 -2.31702634e-04  1.53367515e-01  2.60658956e-01\n",
      "  4.68825118e-03 -1.52163121e-01  2.26283441e-01 -7.69388778e-02\n",
      " -5.54805894e-02  3.37019218e-01 -5.47917223e-02 -3.33334340e-02]\n",
      "\n",
      "Final Attention weights: \n",
      "[[0.38275322 0.17818341 0.20776604 0.23129734]\n",
      " [0.26004579 0.22229523 0.25882949 0.25882949]\n",
      " [0.30391639 0.2423709  0.22442247 0.22929024]\n",
      " [0.32465237 0.23176774 0.21941042 0.22416947]]\n",
      "\n",
      "Hidden embeddings for node features:\n",
      "array([[-0.55807811,  0.34784488],\n",
      "       [-0.30305517,  0.16550585],\n",
      "       [-0.42921932,  0.22260591],\n",
      "       [-0.42921932,  0.22260591]])\n"
     ]
    }
   ],
   "source": [
    "from pprint import pprint\n",
    "\n",
    "import numpy as np\n",
    "\n",
    "np.random.seed(10)\n",
    "\n",
    "# Adjacency matrix\n",
    "A = np.array([\n",
    "    [1, 1, 1, 1],\n",
    "    [1, 1, 0, 0],\n",
    "    [1, 0, 1, 1],\n",
    "    [1, 0, 1, 1],\n",
    "])\n",
    "\n",
    "# Generate random matrix of node features\n",
    "X = np.random.uniform(-1, 1, (4, 4))\n",
    "\n",
    "# Generate random edge features\n",
    "X_edge = np.random.uniform(-1, 1, (12, 2))\n",
    "\n",
    "# Regular weight matrix\n",
    "# (no_of_hidden_dims, no_of_nodes)\n",
    "W = np.random.uniform(-1, 1, (2, 4))\n",
    "\n",
    "# Attention matrix\n",
    "# size: (1, dim_h x 2)\n",
    "W_att = np.random.uniform(-1, 1, (1, 4))\n",
    "\n",
    "# Connections from source nodes to destination nodes\n",
    "connections = np.where(A > 0)\n",
    "\n",
    "# Concatenate hidden vectors of source and destination nodes\n",
    "# Then apply linear transformation: W_att\n",
    "a = W_att @ np.concatenate([(X @ W.T)[connections[0]], (X @ W.T)[connections[1]]], axis=1).T\n",
    "\n",
    "\n",
    "# print((X @ W.T).shape)\n",
    "# print(((X @ W.T)[connections[0]]).shape)\n",
    "# print((np.concatenate([(X @ W.T)[connections[0]], (X @ W.T)[connections[1]]], axis=1)).shape)\n",
    "\n",
    "# Applying Leaky ReLU to the previous result\n",
    "def leaky_relu(x, alpha=0.2):\n",
    "    return np.maximum(alpha * x, x)\n",
    "\n",
    "\n",
    "e = leaky_relu(a)\n",
    "# print(e.shape)\n",
    "\n",
    "# Place these values in a matrix: shape = A.shape\n",
    "# Means it should look like a adjacency matrix\n",
    "E = np.zeros(A.shape)  # (no_of_nodes, no_of_nodes)\n",
    "E[connections[0], connections[1]] = e[0]\n",
    "# print(E)\n",
    "\n",
    "\n",
    "# Normalize every row of attention scores.\n",
    "def softmax2D(x, axis):\n",
    "    e = np.exp(x - np.expand_dims(np.max(x, axis=axis), axis))\n",
    "    sum = np.expand_dims(np.sum(e, axis=axis), axis)\n",
    "    # print(np.sum(e/sum, axis=1))\n",
    "    return e / sum\n",
    "\n",
    "\n",
    "# Attention weights\n",
    "W_alpha = softmax2D(E, 1)\n",
    "\n",
    "\n",
    "# Calculate new matrix of embeddings H\n",
    "H = A.T @ W_alpha @ X @ W.T\n",
    "\n",
    "\n",
    "\n",
    "print(f\"Adjacency Matrix: \\n{A}\")\n",
    "print(f\"\\nNode features: \\n{X}\")\n",
    "print(f\"\\nEdge features: \\n{X_edge}\")\n",
    "print(f\"\\nRegular weight matrix: \\n{W}\")\n",
    "print(f\"\\nAttention matrix: \\n{W_att}\")\n",
    "print(f\"\\nEdges in COO format: \\n{connections}\")\n",
    "print(f\"\\nAttention score: \\n{a}\")\n",
    "print(f\"\\nAfter applying LeakyReLU: \\n{e[0]}\")\n",
    "print(f\"\\nFinal Attention weights: \\n{W_alpha}\")\n",
    "print('\\nHidden embeddings for node features:')\n",
    "pprint(H)\n"
   ]
  },
  {
   "cell_type": "markdown",
   "id": "13445f99-c869-4361-bc60-dbed1852ae8b",
   "metadata": {
    "canvas": {
     "comments": [],
     "componentType": "CodeCell",
     "copiedOriginId": null,
     "diskcache": false,
     "headerColor": "transparent",
     "id": "15988466-8733-40aa-87f1-d6bfc6a6e47e",
     "isComponent": false,
     "name": "",
     "parents": []
    }
   },
   "source": [
    "# Influence Mechanism\n",
    "\n",
    "- W_inf: Linear Transformation that will be applied to scaled edge features\n",
    "- reshaped_weights: Obtained attetion weights for the actual edges defined in the edge_index of the graph\n"
   ]
  },
  {
   "cell_type": "code",
   "execution_count": 32,
   "id": "9bd9927c-b667-4956-a9eb-ec246ce58c76",
   "metadata": {
    "canvas": {
     "comments": [],
     "componentType": "CodeCell",
     "copiedOriginId": null,
     "diskcache": false,
     "headerColor": "transparent",
     "id": "925e2ddf-13ae-4984-8f34-813a186a6102",
     "isComponent": false,
     "name": "",
     "parents": []
    }
   },
   "outputs": [
    {
     "name": "stdout",
     "output_type": "stream",
     "text": [
      "\n",
      "Alpha_ones\n",
      " [[0.38275322 0.17818341 0.20776604 0.23129734]\n",
      " [0.26004579 0.22229523 0.25882949 0.25882949]\n",
      " [0.30391639 0.2423709  0.22442247 0.22929024]\n",
      " [0.32465237 0.23176774 0.21941042 0.22416947]]\n",
      "\n",
      "Mask\n",
      " [0.38275322 0.17818341 0.20776604 0.23129734 0.26004579 0.22229523\n",
      " 0.30391639 0.22442247 0.22929024 0.32465237 0.21941042 0.22416947]\n",
      "(12,)\n",
      "\n",
      "reshaped_weights\n",
      " [[ 0.16975512 -0.15932021]\n",
      " [ 0.14888083  0.07646769]\n",
      " [ 0.01767855 -0.14868982]\n",
      " [-0.05859189  0.08055328]\n",
      " [-0.03025208 -0.03431877]\n",
      " [ 0.05235808  0.00584114]\n",
      " [ 0.09141634  0.06141479]\n",
      " [ 0.13699789  0.00971621]\n",
      " [ 0.1873984  -0.0828948 ]\n",
      " [-0.26591669 -0.1294064 ]\n",
      " [-0.16939171  0.14423222]\n",
      " [-0.20314402  0.05661945]]\n",
      "\n",
      "reshaped_weights_shape (12, 2)\n",
      "\n",
      "W_inf (10, 2)\n",
      "\n",
      "Influence:  (12, 10)\n",
      "[[-0.30051236 -0.05284312  0.18084565 -0.06800636 -0.08624948 -0.13533348\n",
      "   0.02606892  0.17670577 -0.07083879 -0.07192392]\n",
      " [-0.05652094 -0.0484861   0.13299857 -0.05108373  0.07739503 -0.13402857\n",
      "   0.11738574 -0.04518059 -0.03480471 -0.05774644]\n",
      " [-0.15779788 -0.00419503  0.03448085 -0.01231257 -0.10249001 -0.00472301\n",
      "  -0.05503912  0.14070019 -0.02407198 -0.0107489 ]\n",
      " [ 0.12820362  0.01798594 -0.06544785  0.0244849   0.04786473  0.04489767\n",
      "   0.00217848 -0.08465751  0.02768108  0.02545552]\n",
      " [-0.00650034  0.01003819 -0.02480023  0.00963643 -0.02902072  0.02856643\n",
      "  -0.03206345  0.02656801  0.00469866  0.01127059]\n",
      " [-0.04003626 -0.01684302  0.04926616 -0.0187985   0.0123169  -0.04564155\n",
      "   0.0320784   0.0036001  -0.01490048 -0.02082743]\n",
      " [-0.02085599 -0.02991482  0.07995122 -0.03079401  0.05775943 -0.0833226\n",
      "   0.0784004  -0.04113087 -0.01954321 -0.03510092]\n",
      " [-0.11008875 -0.04401559  0.1295672  -0.04940778  0.02828684 -0.11902878\n",
      "   0.08150085  0.01457428 -0.03969157 -0.05463349]\n",
      " [-0.24270054 -0.0592561   0.18862741 -0.0713929  -0.02939325 -0.15599533\n",
      "   0.06943155  0.10898569 -0.06644986 -0.07710548]\n",
      " [ 0.10782131  0.0865302  -0.23839896  0.09152487 -0.13315814  0.23888016\n",
      "  -0.20652715  0.07405653  0.06307136  0.1033181 ]\n",
      " [ 0.2857468   0.05287603 -0.17871168  0.06727689  0.07562597  0.13608988\n",
      "  -0.03246055 -0.16267462  0.0688234   0.07140616]\n",
      " [ 0.23126053  0.0645641  -0.2005389   0.07607538  0.00833317  0.17146042\n",
      "  -0.08979822 -0.08736862  0.06783217  0.08276406]]\n"
     ]
    }
   ],
   "source": [
    "print('\\nAlpha_ones\\n', W_alpha)\n",
    "\n",
    "# Obtaining attetion weights for the actual edges: defined in the edge_index\n",
    "mask = W_alpha[connections[0], connections[1]]\n",
    "print('\\nMask\\n', mask)\n",
    "print(mask.shape)\n",
    "\n",
    "# Calculating scaled version of edge fetures \n",
    "# attention weights * edge_features\n",
    "# we need to do this for actual edges for given a node in the graph\n",
    "# Element-wise multiplication is used here to calculate scaled version of the edges\n",
    "reshaped_weights = mask.reshape(12, 1) * X_edge  # reshape need to be done!\n",
    "print('\\nreshaped_weights\\n', reshaped_weights)\n",
    "print('\\nreshaped_weights_shape', reshaped_weights.shape)\n",
    "\n",
    "\n",
    "# Influence matrix: Linear Transformation\n",
    "W_inf = np.random.uniform(-1, 1, (10, 2))\n",
    "print('\\nW_inf', W_inf.shape)\n",
    "\n",
    "# Calculating the influence for the whole graph\n",
    "result = reshaped_weights @ W_inf.T\n",
    "print('\\nInfluence: ', result.shape)\n",
    "print(result)"
   ]
  },
  {
   "cell_type": "markdown",
   "id": "2d0cb01b-3d51-4288-a87c-515ef37d0dfe",
   "metadata": {
    "canvas": {
     "comments": [],
     "componentType": "CodeCell",
     "copiedOriginId": null,
     "diskcache": false,
     "headerColor": "transparent",
     "id": "2f6d8aeb-0359-43e7-aa3a-f4048a39615d",
     "isComponent": false,
     "name": "",
     "parents": []
    }
   },
   "source": [
    "Calculated influence contains all the edge based inluence that comes from the particular edges for the paritcular nodes. Here we have done it for all the nodes in the graph by applying matrix multiplication.\n",
    "- Shape: (no_of_edges, dim_hidden)\n",
    "- dim_hidden comes from the W_inf: Linear Transformation for the influence\n",
    "- W_inf shape: (dim_hidden, no_of_edge_features)"
   ]
  },
  {
   "cell_type": "code",
   "execution_count": 26,
   "id": "cf636f01-35e5-4ffb-9a6b-4e29e15b5d68",
   "metadata": {
    "canvas": {
     "comments": [],
     "componentType": "CodeCell",
     "copiedOriginId": null,
     "diskcache": false,
     "headerColor": "transparent",
     "id": "0a5ffff9-a064-420b-baa7-da4283175c78",
     "isComponent": false,
     "name": "",
     "parents": []
    }
   },
   "outputs": [
    {
     "data": {
      "text/plain": [
       "(array([0, 0, 0, 0, 1, 1, 2, 2, 2, 3, 3, 3]),\n",
       " array([0, 1, 2, 3, 0, 1, 0, 2, 3, 0, 2, 3]))"
      ]
     },
     "execution_count": 26,
     "metadata": {},
     "output_type": "execute_result"
    }
   ],
   "source": [
    "connections #[2, 12]"
   ]
  },
  {
   "cell_type": "markdown",
   "id": "59ef35cf-b0d4-4509-aa2a-60d20bc0fcc6",
   "metadata": {
    "canvas": {
     "comments": [],
     "componentType": "CodeCell",
     "copiedOriginId": null,
     "diskcache": false,
     "headerColor": "transparent",
     "id": "a46a960e-afad-4b34-b66f-0300e825c84f",
     "isComponent": false,
     "name": "",
     "parents": []
    }
   },
   "source": [
    "Edges are encoded in COO format: Source nodes, and Target nodes respectively."
   ]
  },
  {
   "cell_type": "code",
   "execution_count": 25,
   "id": "dc3390e0-13ad-46d5-b23f-2f44396ac82d",
   "metadata": {
    "canvas": {
     "comments": [],
     "componentType": "CodeCell",
     "copiedOriginId": null,
     "diskcache": false,
     "headerColor": "transparent",
     "id": "db323ee4-0762-48fc-957b-5f6a8579fa08",
     "isComponent": false,
     "name": "",
     "parents": []
    }
   },
   "outputs": [
    {
     "data": {
      "text/plain": [
       "array([[ 0.44351063, -0.41624786],\n",
       "       [ 0.83554825,  0.42915157],\n",
       "       [ 0.08508874, -0.7156599 ],\n",
       "       [-0.25331848,  0.34826723],\n",
       "       [-0.11633365, -0.13197201],\n",
       "       [ 0.23553396,  0.02627649],\n",
       "       [ 0.30079436,  0.20207791],\n",
       "       [ 0.61044639,  0.0432943 ],\n",
       "       [ 0.81729776, -0.36152782],\n",
       "       [-0.8190813 , -0.39859989],\n",
       "       [-0.77203128,  0.65736265],\n",
       "       [-0.90620736,  0.2525743 ]])"
      ]
     },
     "execution_count": 25,
     "metadata": {},
     "output_type": "execute_result"
    }
   ],
   "source": [
    "X_edge #[12, 2]"
   ]
  },
  {
   "cell_type": "code",
   "execution_count": 52,
   "id": "2b62fcb9-70ec-414e-94cb-94321d3adb1c",
   "metadata": {
    "canvas": {
     "comments": [],
     "componentType": "CodeCell",
     "copiedOriginId": null,
     "diskcache": false,
     "headerColor": "transparent",
     "id": "a559f424-be3c-44bc-8075-f9aab71bf307",
     "isComponent": false,
     "name": "",
     "parents": []
    },
    "tags": []
   },
   "outputs": [
    {
     "name": "stdout",
     "output_type": "stream",
     "text": [
      "[[[-0.30051236 -0.05284312  0.18084565 -0.06800636 -0.08624948\n",
      "   -0.13533348  0.02606892  0.17670577 -0.07083879 -0.07192392]\n",
      "  [-0.05652094 -0.0484861   0.13299857 -0.05108373  0.07739503\n",
      "   -0.13402857  0.11738574 -0.04518059 -0.03480471 -0.05774644]\n",
      "  [-0.15779788 -0.00419503  0.03448085 -0.01231257 -0.10249001\n",
      "   -0.00472301 -0.05503912  0.14070019 -0.02407198 -0.0107489 ]\n",
      "  [ 0.12820362  0.01798594 -0.06544785  0.0244849   0.04786473\n",
      "    0.04489767  0.00217848 -0.08465751  0.02768108  0.02545552]]\n",
      "\n",
      " [[-0.00650034  0.01003819 -0.02480023  0.00963643 -0.02902072\n",
      "    0.02856643 -0.03206345  0.02656801  0.00469866  0.01127059]\n",
      "  [-0.04003626 -0.01684302  0.04926616 -0.0187985   0.0123169\n",
      "   -0.04564155  0.0320784   0.0036001  -0.01490048 -0.02082743]\n",
      "  [ 0.          0.          0.          0.          0.\n",
      "    0.          0.          0.          0.          0.        ]\n",
      "  [ 0.          0.          0.          0.          0.\n",
      "    0.          0.          0.          0.          0.        ]]\n",
      "\n",
      " [[-0.02085599 -0.02991482  0.07995122 -0.03079401  0.05775943\n",
      "   -0.0833226   0.0784004  -0.04113087 -0.01954321 -0.03510092]\n",
      "  [ 0.          0.          0.          0.          0.\n",
      "    0.          0.          0.          0.          0.        ]\n",
      "  [-0.11008875 -0.04401559  0.1295672  -0.04940778  0.02828684\n",
      "   -0.11902878  0.08150085  0.01457428 -0.03969157 -0.05463349]\n",
      "  [-0.24270054 -0.0592561   0.18862741 -0.0713929  -0.02939325\n",
      "   -0.15599533  0.06943155  0.10898569 -0.06644986 -0.07710548]]\n",
      "\n",
      " [[ 0.10782131  0.0865302  -0.23839896  0.09152487 -0.13315814\n",
      "    0.23888016 -0.20652715  0.07405653  0.06307136  0.1033181 ]\n",
      "  [ 0.          0.          0.          0.          0.\n",
      "    0.          0.          0.          0.          0.        ]\n",
      "  [ 0.2857468   0.05287603 -0.17871168  0.06727689  0.07562597\n",
      "    0.13608988 -0.03246055 -0.16267462  0.0688234   0.07140616]\n",
      "  [ 0.23126053  0.0645641  -0.2005389   0.07607538  0.00833317\n",
      "    0.17146042 -0.08979822 -0.08736862  0.06783217  0.08276406]]]\n"
     ]
    },
    {
     "data": {
      "text/plain": [
       "(4, 4, 10)"
      ]
     },
     "execution_count": 52,
     "metadata": {},
     "output_type": "execute_result"
    }
   ],
   "source": [
    "I = np.zeros((4, 4, 10))  # (no_of_nodes, no_of_nodes, dim_hidden) dim_hidden after W_inf...\n",
    "I[connections[0], connections[1]] = result\n",
    "print(I)\n",
    "I.shape"
   ]
  },
  {
   "cell_type": "code",
   "execution_count": 63,
   "id": "3395c916-8773-407e-b429-49ac55f1730b",
   "metadata": {
    "canvas": {
     "comments": [],
     "componentType": "CodeCell",
     "copiedOriginId": null,
     "diskcache": false,
     "headerColor": "transparent",
     "id": "c8ef0030-954f-44d6-a41c-61a036d6eecb",
     "isComponent": false,
     "name": "",
     "parents": []
    },
    "tags": []
   },
   "outputs": [
    {
     "data": {
      "text/plain": [
       "array([[-3.86627576e-01, -8.75383089e-02,  2.82877224e-01,\n",
       "        -1.06917760e-01, -6.34797407e-02, -2.29187390e-01,\n",
       "         9.05940283e-02,  1.87567857e-01, -1.02034400e-01,\n",
       "        -1.14963732e-01],\n",
       "       [-4.65365998e-02, -6.80482998e-03,  2.44659342e-02,\n",
       "        -9.16206481e-03, -1.67038208e-02, -1.70751254e-02,\n",
       "         1.49541273e-05,  3.01681113e-02, -1.02018211e-02,\n",
       "        -9.55683737e-03],\n",
       "       [-3.73645281e-01, -1.33186510e-01,  3.98145826e-01,\n",
       "        -1.51594698e-01,  5.66530187e-02, -3.58346707e-01,\n",
       "         2.29332808e-01,  8.24291045e-02, -1.25684640e-01,\n",
       "        -1.66839887e-01],\n",
       "       [ 6.24828645e-01,  2.03970325e-01, -6.17649542e-01,\n",
       "         2.34877134e-01, -4.91990044e-02,  5.46430465e-01,\n",
       "        -3.28785920e-01, -1.75986705e-01,  1.99726925e-01,\n",
       "         2.57488327e-01]])"
      ]
     },
     "execution_count": 63,
     "metadata": {},
     "output_type": "execute_result"
    }
   ],
   "source": [
    "# Taking the aggreated influence as node-wise\n",
    "# Each node now has aggregated data\n",
    "I.sum(axis=1).shape == (4, 10)\n",
    "I.sum(axis=1)"
   ]
  },
  {
   "cell_type": "code",
   "execution_count": 72,
   "id": "406a44e0-18c1-48c6-a477-458cd5237acd",
   "metadata": {
    "canvas": {
     "comments": [],
     "componentType": "CodeCell",
     "copiedOriginId": null,
     "diskcache": false,
     "headerColor": "transparent",
     "id": "407dcda9-2be4-4465-8405-8f9e22b2a081",
     "isComponent": false,
     "name": "",
     "parents": []
    },
    "tags": []
   },
   "outputs": [
    {
     "name": "stdout",
     "output_type": "stream",
     "text": [
      "[[-5.58078115e-01  3.47844879e-01 -3.86627576e-01 -8.75383089e-02\n",
      "   2.82877224e-01 -1.06917760e-01 -6.34797407e-02 -2.29187390e-01\n",
      "   9.05940283e-02  1.87567857e-01 -1.02034400e-01 -1.14963732e-01]\n",
      " [-3.03055171e-01  1.65505852e-01 -4.65365998e-02 -6.80482998e-03\n",
      "   2.44659342e-02 -9.16206481e-03 -1.67038208e-02 -1.70751254e-02\n",
      "   1.49541273e-05  3.01681113e-02 -1.02018211e-02 -9.55683737e-03]\n",
      " [-4.29219323e-01  2.22605905e-01 -3.73645281e-01 -1.33186510e-01\n",
      "   3.98145826e-01 -1.51594698e-01  5.66530187e-02 -3.58346707e-01\n",
      "   2.29332808e-01  8.24291045e-02 -1.25684640e-01 -1.66839887e-01]\n",
      " [-4.29219323e-01  2.22605905e-01  6.24828645e-01  2.03970325e-01\n",
      "  -6.17649542e-01  2.34877134e-01 -4.91990044e-02  5.46430465e-01\n",
      "  -3.28785920e-01 -1.75986705e-01  1.99726925e-01  2.57488327e-01]]\n",
      "(4, 12)\n"
     ]
    }
   ],
   "source": [
    "# Concatenation of both node features and calculated influence messages...\n",
    "temp = I.sum(axis=1)\n",
    "print(np.concatenate((H, temp), axis=1))\n",
    "print(np.concatenate((H, temp), axis=1).shape)"
   ]
  },
  {
   "cell_type": "markdown",
   "id": "183c3429-3da8-4c76-8cf0-17931ff55ee4",
   "metadata": {
    "canvas": {
     "comments": [],
     "componentType": "CodeCell",
     "copiedOriginId": null,
     "diskcache": false,
     "headerColor": "transparent",
     "id": "c5f6d644-c3a6-4ade-ae57-6ea07e41e2a4",
     "isComponent": false,
     "name": "",
     "parents": []
    }
   },
   "source": [
    "Concatenation of node features and edge features might add noise to the overoll representation as both of them have different features that represent entirely different contextual data. For an example, node represent atom's charge and it might not be subjective the edge feature like interaction between two atoms."
   ]
  },
  {
   "cell_type": "code",
   "execution_count": null,
   "id": "dff035af-0404-429e-b38c-8ed997f4f9e6",
   "metadata": {
    "canvas": {
     "comments": [],
     "componentType": "CodeCell",
     "copiedOriginId": null,
     "diskcache": false,
     "headerColor": "transparent",
     "id": "c5d83ed1-4d59-4550-9e52-d96f61cb26e0",
     "isComponent": false,
     "name": "",
     "parents": []
    }
   },
   "outputs": [],
   "source": []
  }
 ],
 "metadata": {
  "canvas": {
   "colorPalette": [
    "inherit",
    "inherit",
    "inherit",
    "inherit",
    "inherit",
    "inherit",
    "inherit",
    "inherit",
    "inherit",
    "inherit"
   ],
   "parameters": [],
   "version": "1.0"
  },
  "kernelspec": {
   "display_name": "Python (pytorch)",
   "language": "python",
   "name": "pytorch"
  },
  "language_info": {
   "codemirror_mode": {
    "name": "ipython",
    "version": 3
   },
   "file_extension": ".py",
   "mimetype": "text/x-python",
   "name": "python",
   "nbconvert_exporter": "python",
   "pygments_lexer": "ipython3",
   "version": "3.9.16"
  }
 },
 "nbformat": 4,
 "nbformat_minor": 5
}
