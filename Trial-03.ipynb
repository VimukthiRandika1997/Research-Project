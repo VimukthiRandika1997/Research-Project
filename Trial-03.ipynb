{
 "cells": [
  {
   "cell_type": "markdown",
   "id": "0b21d255-591e-4289-aeef-675b9427466f",
   "metadata": {
    "canvas": {
     "comments": [],
     "componentType": "CodeCell",
     "copiedOriginId": null,
     "diskcache": false,
     "headerColor": "transparent",
     "id": "c59f8a2d-4efd-45c6-bd11-64111c62b29a",
     "isComponent": false,
     "name": "",
     "parents": []
    },
    "tags": []
   },
   "source": [
    "# Graph Classification on Molecules"
   ]
  },
  {
   "cell_type": "code",
   "execution_count": 4,
   "id": "63e19655-f6e4-4bf7-b44f-6d313f886f36",
   "metadata": {
    "canvas": {
     "comments": [],
     "componentType": "CodeCell",
     "copiedOriginId": null,
     "diskcache": false,
     "headerColor": "transparent",
     "id": "2d79b7be-64e9-4c04-8917-1a2870369d69",
     "isComponent": false,
     "name": "",
     "parents": []
    }
   },
   "outputs": [
    {
     "name": "stdout",
     "output_type": "stream",
     "text": [
      "Collecting rdkit\n",
      "  Downloading rdkit-2023.3.1-cp39-cp39-manylinux_2_17_x86_64.manylinux2014_x86_64.whl (29.7 MB)\n",
      "\u001b[2K     \u001b[38;2;114;156;31m━━━━━━━━━━━━━━━━━━━━━━━━━━━━━━━━━━━━━━━━\u001b[0m \u001b[32m29.7/29.7 MB\u001b[0m \u001b[31m1.9 MB/s\u001b[0m eta \u001b[36m0:00:00\u001b[0mm eta \u001b[36m0:00:01\u001b[0m[36m0:00:01\u001b[0m\n",
      "\u001b[?25hRequirement already satisfied: numpy in /home/vimukthi/anaconda3/envs/pytorch/lib/python3.9/site-packages (from rdkit) (1.21.5)\n",
      "Requirement already satisfied: Pillow in /home/vimukthi/anaconda3/envs/pytorch/lib/python3.9/site-packages (from rdkit) (9.3.0)\n",
      "Installing collected packages: rdkit\n",
      "Successfully installed rdkit-2023.3.1\n"
     ]
    },
    {
     "name": "stderr",
     "output_type": "stream",
     "text": [
      "Processing...\n",
      "[01:58:25] WARNING: not removing hydrogen atom without neighbors\n",
      "Done!\n"
     ]
    }
   ],
   "source": [
    "!pip install rdkit\n",
    "\n",
    "from torch_geometric.datasets import MoleculeNet\n",
    "\n",
    "dataset = MoleculeNet(root='./data', name=\"Tox21\")"
   ]
  },
  {
   "cell_type": "code",
   "execution_count": 11,
   "id": "a0316604-e05f-4b2a-916f-41622375a80c",
   "metadata": {
    "canvas": {
     "comments": [],
     "componentType": "CodeCell",
     "copiedOriginId": null,
     "diskcache": false,
     "headerColor": "transparent",
     "id": "6554093b-6616-4d7c-8f51-4bd7b55d6791",
     "isComponent": false,
     "name": "",
     "parents": []
    },
    "tags": []
   },
   "outputs": [
    {
     "name": "stdout",
     "output_type": "stream",
     "text": [
      "Dataset: Tox21(7831):\n",
      "====================\n",
      "Number of graphs: 7831\n",
      "Number of features: 9\n",
      "Number of classes: 12\n",
      "\n",
      "Data(x=[16, 9], edge_index=[2, 34], edge_attr=[34, 3], y=[1, 12], smiles='CCOc1ccc2nc(S(N)(=O)=O)sc2c1')\n",
      "=============================================================\n",
      "Number of nodes: 16\n",
      "Number of edges: 34\n",
      "Average node degree: 2.12\n",
      "Has isolated nodes: False\n",
      "Has self-loops: False\n",
      "Is undirected: True\n"
     ]
    }
   ],
   "source": [
    "print(f'Dataset: {dataset}:')\n",
    "print('====================')\n",
    "print(f'Number of graphs: {len(dataset)}')\n",
    "print(f'Number of features: {dataset.num_features}')\n",
    "print(f'Number of classes: {dataset.num_classes}')\n",
    "\n",
    "graph_1 = dataset[0]\n",
    "print()\n",
    "print(graph_1)\n",
    "print('=============================================================')\n",
    "\n",
    "# Gather some statistics about the first graph.\n",
    "print(f'Number of nodes: {graph_1.num_nodes}')\n",
    "print(f'Number of edges: {graph_1.num_edges}')\n",
    "print(f'Average node degree: {graph_1.num_edges / graph_1.num_nodes:.2f}')\n",
    "print(f'Has isolated nodes: {graph_1.has_isolated_nodes()}')\n",
    "print(f'Has self-loops: {graph_1.has_self_loops()}')\n",
    "print(f'Is undirected: {graph_1.is_undirected()}')"
   ]
  }
 ],
 "metadata": {
  "canvas": {
   "colorPalette": [
    "inherit",
    "inherit",
    "inherit",
    "inherit",
    "inherit",
    "inherit",
    "inherit",
    "inherit",
    "inherit",
    "inherit"
   ],
   "parameters": [],
   "version": "1.0"
  },
  "kernelspec": {
   "display_name": "Python (pytorch)",
   "language": "python",
   "name": "pytorch"
  },
  "language_info": {
   "codemirror_mode": {
    "name": "ipython",
    "version": 3
   },
   "file_extension": ".py",
   "mimetype": "text/x-python",
   "name": "python",
   "nbconvert_exporter": "python",
   "pygments_lexer": "ipython3",
   "version": "3.9.16"
  }
 },
 "nbformat": 4,
 "nbformat_minor": 5
}
